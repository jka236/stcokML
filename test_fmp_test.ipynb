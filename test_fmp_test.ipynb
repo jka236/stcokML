{
 "cells": [
  {
   "cell_type": "code",
   "execution_count": 4,
   "id": "b1995433",
   "metadata": {},
   "outputs": [],
   "source": [
    "import yfinance as yf\n",
    "from pandas_datareader import data as pdr\n",
    "import os\n",
    "from dotenv import load_dotenv\n",
    "import typing\n",
    "from fmp_python.fmp import FMP\n",
    "import pandas as pd\n",
    "import numpy as np\n",
    "from urllib.request import urlopen\n",
    "import json\n",
    "import csv\n",
    "import bs4 as bs\n",
    "import requests"
   ]
  },
  {
   "cell_type": "code",
   "execution_count": 122,
   "id": "8b68e384",
   "metadata": {},
   "outputs": [],
   "source": [
    "spyTicker = np.loadtxt('sp500tickers.csv', delimiter=\",\", dtype=str)\n",
    "testTickers = spyTicker[0:2]"
   ]
  },
  {
   "cell_type": "code",
   "execution_count": 89,
   "id": "70eb6de4",
   "metadata": {},
   "outputs": [],
   "source": [
    "spyKeyRatio = pd.DataFrame()"
   ]
  },
  {
   "cell_type": "code",
   "execution_count": 90,
   "id": "7dc09c9c",
   "metadata": {},
   "outputs": [
    {
     "data": {
      "text/plain": [
       "array(['MMM', 'ABT', 'ABBV', 'ABMD', 'ACN', 'ATVI', 'ADBE', 'AMD', 'AAP',\n",
       "       'AES', 'AFL'], dtype='<U5')"
      ]
     },
     "execution_count": 90,
     "metadata": {},
     "output_type": "execute_result"
    }
   ],
   "source": [
    "testTickers"
   ]
  },
  {
   "cell_type": "code",
   "execution_count": 91,
   "id": "2c3d9a1c",
   "metadata": {},
   "outputs": [
    {
     "data": {
      "text/plain": [
       "'b329a8c1d83f4b0d64717303f0abc9d6'"
      ]
     },
     "execution_count": 91,
     "metadata": {},
     "output_type": "execute_result"
    }
   ],
   "source": [
    "load_dotenv()\n",
    "apikey = os.environ.get(\"apikey\")\n",
    "spyKeyRatio = pd.DataFrame()"
   ]
  },
  {
   "cell_type": "code",
   "execution_count": null,
   "id": "9c00ebfa",
   "metadata": {},
   "outputs": [],
   "source": [
    "#!/usr/bin/env python\n",
    "\n",
    "def get_jsonparsed_data(url):\n",
    "    \"\"\"\n",
    "    Receive the content of ``url``, parse it as JSON and return the object.\n",
    "\n",
    "    Parameters\n",
    "    ----------\n",
    "    url : str\n",
    "\n",
    "    Returns\n",
    "    -------\n",
    "    dict\n",
    "    \"\"\"\n",
    "    response = urlopen(url)\n",
    "    data = response.read().decode(\"utf-8\")\n",
    "    return json.loads(data)"
   ]
  },
  {
   "cell_type": "code",
   "execution_count": 135,
   "id": "9694ce34",
   "metadata": {},
   "outputs": [],
   "source": [
    "def getData(datatype, ticker, apikey):\n",
    "    url = (\"https://financialmodelingprep.com/api/v3/\"+datatype+\"/\"+ticker+\"?&apikey=\"+apikey)\n",
    "    jsonData = get_jsonparsed_data(url)\n",
    "    return jsonData"
   ]
  },
  {
   "cell_type": "code",
   "execution_count": 140,
   "id": "9a6cd1b8",
   "metadata": {},
   "outputs": [],
   "source": [
    "#Getting Ratio Data\n",
    "for ticker in testTickers:\n",
    "    ratioJsondata = getData('ratios', ticker, apikey)\n",
    "    sectorJsondata = getData('profile', ticker, apikey)\n",
    "    df = pd.DataFrame.from_dict(ratioJsondata, orient='columns')\n",
    "    df['industry']=sectorJsondata[0]['industry']\n",
    "    df['sector']=sectorJsondata[0]['sector']\n",
    "    df = df.drop(['period'], axis=1)\n",
    "    spyKeyRatio = pd.concat([spyKeyRatio,df], axis=0)"
   ]
  },
  {
   "cell_type": "code",
   "execution_count": 149,
   "id": "34094036",
   "metadata": {},
   "outputs": [],
   "source": [
    "from pandas_datareader import data as pdr\n",
    "import fix_yahoo_finance as yf\n",
    "yf.pdr_override() # <== that's all it takes :-)"
   ]
  },
  {
   "cell_type": "code",
   "execution_count": 161,
   "id": "d1f1cf80",
   "metadata": {},
   "outputs": [],
   "source": [
    "sectorJsondata = getData('profile', 'APPL', apikey)\n",
    "df = pd.DataFrame.from_dict(ratioJsondata, orient='columns')"
   ]
  },
  {
   "cell_type": "code",
   "execution_count": 164,
   "id": "2f5c7de7",
   "metadata": {},
   "outputs": [],
   "source": [
    "df['date'] = pd.to_datetime(df['date'], format='%Y-%m-%d')"
   ]
  },
  {
   "cell_type": "code",
   "execution_count": 1,
   "id": "05d7cb0d",
   "metadata": {},
   "outputs": [
    {
     "ename": "NameError",
     "evalue": "name 'spyKeyRatio' is not defined",
     "output_type": "error",
     "traceback": [
      "\u001b[0;31m---------------------------------------------------------------------------\u001b[0m",
      "\u001b[0;31mNameError\u001b[0m                                 Traceback (most recent call last)",
      "\u001b[0;32m<ipython-input-1-397ba0563aa0>\u001b[0m in \u001b[0;36m<module>\u001b[0;34m\u001b[0m\n\u001b[0;32m----> 1\u001b[0;31m \u001b[0mspyKeyRatio\u001b[0m\u001b[0;34m\u001b[0m\u001b[0;34m\u001b[0m\u001b[0m\n\u001b[0m",
      "\u001b[0;31mNameError\u001b[0m: name 'spyKeyRatio' is not defined"
     ]
    }
   ],
   "source": [
    "spyKeyRatio"
   ]
  },
  {
   "cell_type": "code",
   "execution_count": 74,
   "id": "93bb13c4",
   "metadata": {},
   "outputs": [
    {
     "data": {
      "text/html": [
       "<div>\n",
       "<style scoped>\n",
       "    .dataframe tbody tr th:only-of-type {\n",
       "        vertical-align: middle;\n",
       "    }\n",
       "\n",
       "    .dataframe tbody tr th {\n",
       "        vertical-align: top;\n",
       "    }\n",
       "\n",
       "    .dataframe thead th {\n",
       "        text-align: right;\n",
       "    }\n",
       "</style>\n",
       "<table border=\"1\" class=\"dataframe\">\n",
       "  <thead>\n",
       "    <tr style=\"text-align: right;\">\n",
       "      <th></th>\n",
       "      <th>TICKER</th>\n",
       "      <th>date</th>\n",
       "      <th>PRICE</th>\n",
       "    </tr>\n",
       "  </thead>\n",
       "  <tbody>\n",
       "    <tr>\n",
       "      <th>0</th>\n",
       "      <td>MMM</td>\n",
       "      <td>1</td>\n",
       "      <td>4</td>\n",
       "    </tr>\n",
       "    <tr>\n",
       "      <th>1</th>\n",
       "      <td>MMM</td>\n",
       "      <td>2</td>\n",
       "      <td>5</td>\n",
       "    </tr>\n",
       "    <tr>\n",
       "      <th>2</th>\n",
       "      <td>AAPL</td>\n",
       "      <td>1</td>\n",
       "      <td>5</td>\n",
       "    </tr>\n",
       "    <tr>\n",
       "      <th>3</th>\n",
       "      <td>AAPL</td>\n",
       "      <td>2</td>\n",
       "      <td>6</td>\n",
       "    </tr>\n",
       "    <tr>\n",
       "      <th>4</th>\n",
       "      <td>BRK-B</td>\n",
       "      <td>1</td>\n",
       "      <td>7</td>\n",
       "    </tr>\n",
       "  </tbody>\n",
       "</table>\n",
       "</div>"
      ],
      "text/plain": [
       "  TICKER  date  PRICE\n",
       "0    MMM     1      4\n",
       "1    MMM     2      5\n",
       "2   AAPL     1      5\n",
       "3   AAPL     2      6\n",
       "4  BRK-B     1      7"
      ]
     },
     "execution_count": 74,
     "metadata": {},
     "output_type": "execute_result"
    }
   ],
   "source": [
    "test1 = pd.DataFrame({'TICKER':['MMM','MMM','AAPL','AAPL','BRK-B'],'date':[1,2,1,2,1],'PRICE':[4,5,5,6,7]})\n",
    "test1"
   ]
  },
  {
   "cell_type": "code",
   "execution_count": 75,
   "id": "ba6dfef6",
   "metadata": {},
   "outputs": [
    {
     "data": {
      "text/html": [
       "<div>\n",
       "<style scoped>\n",
       "    .dataframe tbody tr th:only-of-type {\n",
       "        vertical-align: middle;\n",
       "    }\n",
       "\n",
       "    .dataframe tbody tr th {\n",
       "        vertical-align: top;\n",
       "    }\n",
       "\n",
       "    .dataframe thead th {\n",
       "        text-align: right;\n",
       "    }\n",
       "</style>\n",
       "<table border=\"1\" class=\"dataframe\">\n",
       "  <thead>\n",
       "    <tr style=\"text-align: right;\">\n",
       "      <th></th>\n",
       "      <th>TICKER</th>\n",
       "      <th>date</th>\n",
       "      <th>PRICE</th>\n",
       "    </tr>\n",
       "  </thead>\n",
       "  <tbody>\n",
       "    <tr>\n",
       "      <th>0</th>\n",
       "      <td>SPY</td>\n",
       "      <td>1</td>\n",
       "      <td>1</td>\n",
       "    </tr>\n",
       "    <tr>\n",
       "      <th>1</th>\n",
       "      <td>SPY</td>\n",
       "      <td>2</td>\n",
       "      <td>2</td>\n",
       "    </tr>\n",
       "  </tbody>\n",
       "</table>\n",
       "</div>"
      ],
      "text/plain": [
       "  TICKER  date  PRICE\n",
       "0    SPY     1      1\n",
       "1    SPY     2      2"
      ]
     },
     "execution_count": 75,
     "metadata": {},
     "output_type": "execute_result"
    }
   ],
   "source": [
    "test2 = pd.DataFrame({'TICKER':'SPY','date':[1,2],'PRICE':[1,2]})\n",
    "test2"
   ]
  },
  {
   "cell_type": "code",
   "execution_count": 86,
   "id": "3a474aa5",
   "metadata": {},
   "outputs": [],
   "source": [
    "test1[test1['TICKER']=='MMM'].set_index('date')['difference']= test1[test1['TICKER']=='MMM'].set_index('date')['PRICE']-test2.set_index('date')['PRICE']"
   ]
  },
  {
   "cell_type": "code",
   "execution_count": 88,
   "id": "3521db9e",
   "metadata": {},
   "outputs": [
    {
     "ename": "TypeError",
     "evalue": "concat() got an unexpected keyword argument 'on'",
     "output_type": "error",
     "traceback": [
      "\u001b[0;31m---------------------------------------------------------------------------\u001b[0m",
      "\u001b[0;31mTypeError\u001b[0m                                 Traceback (most recent call last)",
      "\u001b[0;32m<ipython-input-88-db91cd990fd9>\u001b[0m in \u001b[0;36m<module>\u001b[0;34m\u001b[0m\n\u001b[0;32m----> 1\u001b[0;31m \u001b[0mpd\u001b[0m\u001b[0;34m.\u001b[0m\u001b[0mconcat\u001b[0m\u001b[0;34m(\u001b[0m\u001b[0;34m[\u001b[0m\u001b[0mtest1\u001b[0m\u001b[0;34m,\u001b[0m\u001b[0mtest2\u001b[0m\u001b[0;34m]\u001b[0m\u001b[0;34m,\u001b[0m\u001b[0mon\u001b[0m\u001b[0;34m=\u001b[0m\u001b[0;34m'date'\u001b[0m\u001b[0;34m)\u001b[0m\u001b[0;34m\u001b[0m\u001b[0;34m\u001b[0m\u001b[0m\n\u001b[0m",
      "\u001b[0;31mTypeError\u001b[0m: concat() got an unexpected keyword argument 'on'"
     ]
    }
   ],
   "source": [
    "pd.concat([test1,test2],on='date')"
   ]
  },
  {
   "cell_type": "code",
   "execution_count": 16,
   "id": "fe9cbb79",
   "metadata": {},
   "outputs": [],
   "source": [
    "test1['difference'] = test1['PRICE']-test2['PRICE']"
   ]
  },
  {
   "cell_type": "code",
   "execution_count": 61,
   "id": "2d871ee6",
   "metadata": {},
   "outputs": [
    {
     "data": {
      "text/plain": [
       "2    5\n",
       "3    6\n",
       "Name: PRICE, dtype: int64"
      ]
     },
     "execution_count": 61,
     "metadata": {},
     "output_type": "execute_result"
    }
   ],
   "source": [
    "test1[test1['TICKER']=='AAPL']['PRICE']"
   ]
  },
  {
   "cell_type": "code",
   "execution_count": 90,
   "id": "f596f74e",
   "metadata": {},
   "outputs": [
    {
     "data": {
      "text/html": [
       "<div>\n",
       "<style scoped>\n",
       "    .dataframe tbody tr th:only-of-type {\n",
       "        vertical-align: middle;\n",
       "    }\n",
       "\n",
       "    .dataframe tbody tr th {\n",
       "        vertical-align: top;\n",
       "    }\n",
       "\n",
       "    .dataframe thead th {\n",
       "        text-align: right;\n",
       "    }\n",
       "</style>\n",
       "<table border=\"1\" class=\"dataframe\">\n",
       "  <thead>\n",
       "    <tr style=\"text-align: right;\">\n",
       "      <th></th>\n",
       "      <th>TICKER_x</th>\n",
       "      <th>date</th>\n",
       "      <th>PRICE_x</th>\n",
       "      <th>TICKER_y</th>\n",
       "      <th>PRICE_y</th>\n",
       "    </tr>\n",
       "  </thead>\n",
       "  <tbody>\n",
       "    <tr>\n",
       "      <th>0</th>\n",
       "      <td>MMM</td>\n",
       "      <td>1</td>\n",
       "      <td>4</td>\n",
       "      <td>SPY</td>\n",
       "      <td>1</td>\n",
       "    </tr>\n",
       "    <tr>\n",
       "      <th>1</th>\n",
       "      <td>AAPL</td>\n",
       "      <td>1</td>\n",
       "      <td>5</td>\n",
       "      <td>SPY</td>\n",
       "      <td>1</td>\n",
       "    </tr>\n",
       "    <tr>\n",
       "      <th>2</th>\n",
       "      <td>BRK-B</td>\n",
       "      <td>1</td>\n",
       "      <td>7</td>\n",
       "      <td>SPY</td>\n",
       "      <td>1</td>\n",
       "    </tr>\n",
       "    <tr>\n",
       "      <th>3</th>\n",
       "      <td>MMM</td>\n",
       "      <td>2</td>\n",
       "      <td>5</td>\n",
       "      <td>SPY</td>\n",
       "      <td>2</td>\n",
       "    </tr>\n",
       "    <tr>\n",
       "      <th>4</th>\n",
       "      <td>AAPL</td>\n",
       "      <td>2</td>\n",
       "      <td>6</td>\n",
       "      <td>SPY</td>\n",
       "      <td>2</td>\n",
       "    </tr>\n",
       "  </tbody>\n",
       "</table>\n",
       "</div>"
      ],
      "text/plain": [
       "  TICKER_x  date  PRICE_x TICKER_y  PRICE_y\n",
       "0      MMM     1        4      SPY        1\n",
       "1     AAPL     1        5      SPY        1\n",
       "2    BRK-B     1        7      SPY        1\n",
       "3      MMM     2        5      SPY        2\n",
       "4     AAPL     2        6      SPY        2"
      ]
     },
     "execution_count": 90,
     "metadata": {},
     "output_type": "execute_result"
    }
   ],
   "source": [
    "test1.merge(test2, on='date')"
   ]
  },
  {
   "cell_type": "code",
   "execution_count": 44,
   "id": "ba56ab8e",
   "metadata": {},
   "outputs": [],
   "source": [
    "# test1['differenct'] = test1['PRICE'].apply(lambda x: x-test2[test2['date']==x]['PRICE'])\n",
    "test1['differenct'] = test1['PRICE'].subtract(test2['PRICE'])\n"
   ]
  },
  {
   "cell_type": "code",
   "execution_count": 45,
   "id": "5a2740c5",
   "metadata": {},
   "outputs": [
    {
     "data": {
      "text/html": [
       "<div>\n",
       "<style scoped>\n",
       "    .dataframe tbody tr th:only-of-type {\n",
       "        vertical-align: middle;\n",
       "    }\n",
       "\n",
       "    .dataframe tbody tr th {\n",
       "        vertical-align: top;\n",
       "    }\n",
       "\n",
       "    .dataframe thead th {\n",
       "        text-align: right;\n",
       "    }\n",
       "</style>\n",
       "<table border=\"1\" class=\"dataframe\">\n",
       "  <thead>\n",
       "    <tr style=\"text-align: right;\">\n",
       "      <th></th>\n",
       "      <th>TICKER</th>\n",
       "      <th>date</th>\n",
       "      <th>PRICE</th>\n",
       "      <th>differenct</th>\n",
       "    </tr>\n",
       "  </thead>\n",
       "  <tbody>\n",
       "    <tr>\n",
       "      <th>0</th>\n",
       "      <td>3.0</td>\n",
       "      <td>1</td>\n",
       "      <td>4</td>\n",
       "      <td>3.0</td>\n",
       "    </tr>\n",
       "    <tr>\n",
       "      <th>1</th>\n",
       "      <td>3.0</td>\n",
       "      <td>2</td>\n",
       "      <td>5</td>\n",
       "      <td>3.0</td>\n",
       "    </tr>\n",
       "    <tr>\n",
       "      <th>2</th>\n",
       "      <td>NaN</td>\n",
       "      <td>1</td>\n",
       "      <td>5</td>\n",
       "      <td>NaN</td>\n",
       "    </tr>\n",
       "    <tr>\n",
       "      <th>3</th>\n",
       "      <td>NaN</td>\n",
       "      <td>2</td>\n",
       "      <td>6</td>\n",
       "      <td>NaN</td>\n",
       "    </tr>\n",
       "    <tr>\n",
       "      <th>4</th>\n",
       "      <td>NaN</td>\n",
       "      <td>1</td>\n",
       "      <td>7</td>\n",
       "      <td>NaN</td>\n",
       "    </tr>\n",
       "  </tbody>\n",
       "</table>\n",
       "</div>"
      ],
      "text/plain": [
       "   TICKER  date  PRICE differenct\n",
       "0     3.0     1      4        3.0\n",
       "1     3.0     2      5        3.0\n",
       "2     NaN     1      5        NaN\n",
       "3     NaN     2      6        NaN\n",
       "4     NaN     1      7        NaN"
      ]
     },
     "execution_count": 45,
     "metadata": {},
     "output_type": "execute_result"
    }
   ],
   "source": [
    "test1"
   ]
  }
 ],
 "metadata": {
  "kernelspec": {
   "display_name": "Python 3",
   "language": "python",
   "name": "python3"
  },
  "language_info": {
   "codemirror_mode": {
    "name": "ipython",
    "version": 3
   },
   "file_extension": ".py",
   "mimetype": "text/x-python",
   "name": "python",
   "nbconvert_exporter": "python",
   "pygments_lexer": "ipython3",
   "version": "3.8.8"
  }
 },
 "nbformat": 4,
 "nbformat_minor": 5
}
