{
 "cells": [
  {
   "cell_type": "code",
   "execution_count": 3,
   "metadata": {
    "id": "ylvtv9zgpQxN"
   },
   "outputs": [
    {
     "name": "stdout",
     "output_type": "stream",
     "text": [
      "Collecting yfinance\n",
      "  Downloading yfinance-0.1.63.tar.gz (26 kB)\n",
      "Requirement already satisfied: pandas>=0.24 in /home/jonghyeok/anaconda3/lib/python3.8/site-packages (from yfinance) (1.2.4)\n",
      "Requirement already satisfied: numpy>=1.15 in /home/jonghyeok/anaconda3/lib/python3.8/site-packages (from yfinance) (1.20.1)\n",
      "Requirement already satisfied: requests>=2.20 in /home/jonghyeok/.local/lib/python3.8/site-packages (from yfinance) (2.24.0)\n",
      "Requirement already satisfied: multitasking>=0.0.7 in /home/jonghyeok/.local/lib/python3.8/site-packages (from yfinance) (0.0.9)\n",
      "Requirement already satisfied: lxml>=4.5.1 in /home/jonghyeok/.local/lib/python3.8/site-packages (from yfinance) (4.5.2)\n",
      "Requirement already satisfied: python-dateutil>=2.7.3 in /home/jonghyeok/.local/lib/python3.8/site-packages (from pandas>=0.24->yfinance) (2.8.1)\n",
      "Requirement already satisfied: pytz>=2017.3 in /home/jonghyeok/.local/lib/python3.8/site-packages (from pandas>=0.24->yfinance) (2020.1)\n",
      "Requirement already satisfied: six>=1.5 in /home/jonghyeok/.local/lib/python3.8/site-packages (from python-dateutil>=2.7.3->pandas>=0.24->yfinance) (1.15.0)\n",
      "Requirement already satisfied: urllib3!=1.25.0,!=1.25.1,<1.26,>=1.21.1 in /home/jonghyeok/.local/lib/python3.8/site-packages (from requests>=2.20->yfinance) (1.25.10)\n",
      "Requirement already satisfied: idna<3,>=2.5 in /home/jonghyeok/.local/lib/python3.8/site-packages (from requests>=2.20->yfinance) (2.10)\n",
      "Requirement already satisfied: certifi>=2017.4.17 in /home/jonghyeok/.local/lib/python3.8/site-packages (from requests>=2.20->yfinance) (2020.6.20)\n",
      "Requirement already satisfied: chardet<4,>=3.0.2 in /home/jonghyeok/anaconda3/lib/python3.8/site-packages (from requests>=2.20->yfinance) (3.0.4)\n",
      "Building wheels for collected packages: yfinance\n",
      "  Building wheel for yfinance (setup.py) ... \u001b[?25ldone\n",
      "\u001b[?25h  Created wheel for yfinance: filename=yfinance-0.1.63-py2.py3-none-any.whl size=23909 sha256=83f25e50bcdf65d1910c6b6239ac8fa290dce53a613299986ebe87c952fd4578\n",
      "  Stored in directory: /home/jonghyeok/.cache/pip/wheels/ec/cc/c1/32da8ee853d742d5d7cbd11ee04421222eb354672020b57297\n",
      "Successfully built yfinance\n",
      "Installing collected packages: yfinance\n",
      "Successfully installed yfinance-0.1.63\n",
      "Requirement already satisfied: fmp_python in /home/jonghyeok/anaconda3/lib/python3.8/site-packages (0.1.4)\n",
      "Requirement already satisfied: pandas in /home/jonghyeok/anaconda3/lib/python3.8/site-packages (from fmp_python) (1.2.4)\n",
      "Requirement already satisfied: requests in /home/jonghyeok/.local/lib/python3.8/site-packages (from fmp_python) (2.24.0)\n",
      "Requirement already satisfied: python-dateutil>=2.7.3 in /home/jonghyeok/.local/lib/python3.8/site-packages (from pandas->fmp_python) (2.8.1)\n",
      "Requirement already satisfied: pytz>=2017.3 in /home/jonghyeok/.local/lib/python3.8/site-packages (from pandas->fmp_python) (2020.1)\n",
      "Requirement already satisfied: numpy>=1.16.5 in /home/jonghyeok/anaconda3/lib/python3.8/site-packages (from pandas->fmp_python) (1.20.1)\n",
      "Requirement already satisfied: six>=1.5 in /home/jonghyeok/.local/lib/python3.8/site-packages (from python-dateutil>=2.7.3->pandas->fmp_python) (1.15.0)\n",
      "Requirement already satisfied: urllib3!=1.25.0,!=1.25.1,<1.26,>=1.21.1 in /home/jonghyeok/.local/lib/python3.8/site-packages (from requests->fmp_python) (1.25.10)\n",
      "Requirement already satisfied: chardet<4,>=3.0.2 in /home/jonghyeok/anaconda3/lib/python3.8/site-packages (from requests->fmp_python) (3.0.4)\n",
      "Requirement already satisfied: idna<3,>=2.5 in /home/jonghyeok/.local/lib/python3.8/site-packages (from requests->fmp_python) (2.10)\n",
      "Requirement already satisfied: certifi>=2017.4.17 in /home/jonghyeok/.local/lib/python3.8/site-packages (from requests->fmp_python) (2020.6.20)\n"
     ]
    }
   ],
   "source": [
    "!pip install yfinance\n",
    "!pip install fmp_python"
   ]
  },
  {
   "cell_type": "code",
   "execution_count": 176,
   "metadata": {
    "id": "C1XRprZDcBMJ"
   },
   "outputs": [],
   "source": [
    "import yfinance as yf\n",
    "from pandas_datareader import data as pdr\n",
    "import os\n",
    "from dotenv import load_dotenv\n",
    "import typing\n",
    "from fmp_python.fmp import FMP\n",
    "import pandas as pd\n",
    "import numpy as np\n",
    "from urllib.request import urlopen\n",
    "import json\n",
    "import csv\n",
    "import bs4 as bs\n",
    "import requests\n",
    "from sklearn.model_selection import train_test_split\n",
    "from sklearn.ensemble import RandomForestClassifier\n"
   ]
  },
  {
   "cell_type": "markdown",
   "metadata": {
    "id": "jPjFOb_pxu-i"
   },
   "source": [
    "<h1>Setting FMP API Key</h1>"
   ]
  },
  {
   "cell_type": "code",
   "execution_count": 25,
   "metadata": {
    "id": "YaD_Vt2TrVNj"
   },
   "outputs": [],
   "source": [
    "load_dotenv()\n",
    "apikey = os.environ.get(\"apikey\")"
   ]
  },
  {
   "cell_type": "markdown",
   "metadata": {
    "id": "Eyr3O2v1xYUz"
   },
   "source": [
    "<h1>Getting SPY500 Tickers</h1>"
   ]
  },
  {
   "cell_type": "code",
   "execution_count": 26,
   "metadata": {
    "id": "xcWNNXmJxh9Q"
   },
   "outputs": [],
   "source": [
    "resp = requests.get('http://en.wikipedia.org/wiki/List_of_S%26P_500_companies')\n",
    "soup = bs.BeautifulSoup(resp.text, 'lxml')\n",
    "table = soup.find('table', {'class': 'wikitable sortable'})\n",
    "tickers = []\n",
    "for row in table.findAll('tr')[1:]:\n",
    "    ticker = row.findAll('td')[0].text\n",
    "    ticker = ticker.replace(\"\\n\", \"\")\n",
    "    ticker = ticker.replace(\".\", \"-\")\n",
    "    tickers.append(ticker)"
   ]
  },
  {
   "cell_type": "markdown",
   "metadata": {
    "id": "yE05MolHbj8H"
   },
   "source": [
    "<h1>Getting FMP Data"
   ]
  },
  {
   "cell_type": "code",
   "execution_count": 132,
   "metadata": {
    "id": "2RDI3s9YbpfI"
   },
   "outputs": [],
   "source": [
    "#!/usr/bin/env python\n",
    "\n",
    "def get_jsonparsed_data(url):\n",
    "    \"\"\"\n",
    "    Receive the content of ``url``, parse it as JSON and return the object.\n",
    "\n",
    "    Parameters\n",
    "    ----------\n",
    "    url : str\n",
    "\n",
    "    Returns\n",
    "    -------\n",
    "    dict\n",
    "    \"\"\"\n",
    "    response = urlopen(url)\n",
    "    data = response.read().decode(\"utf-8\")\n",
    "    return json.loads(data)"
   ]
  },
  {
   "cell_type": "code",
   "execution_count": 133,
   "metadata": {
    "id": "sVpUrPc5bi9P"
   },
   "outputs": [],
   "source": [
    "def getData(datatype, ticker, apikey):\n",
    "    url = (\"https://financialmodelingprep.com/api/v3/\"+datatype+\"/\"+ticker+\"?&apikey=\"+apikey)\n",
    "    jsonData = get_jsonparsed_data(url)\n",
    "    return jsonData"
   ]
  },
  {
   "cell_type": "code",
   "execution_count": 131,
   "metadata": {},
   "outputs": [
    {
     "data": {
      "text/html": [
       "<div>\n",
       "<style scoped>\n",
       "    .dataframe tbody tr th:only-of-type {\n",
       "        vertical-align: middle;\n",
       "    }\n",
       "\n",
       "    .dataframe tbody tr th {\n",
       "        vertical-align: top;\n",
       "    }\n",
       "\n",
       "    .dataframe thead th {\n",
       "        text-align: right;\n",
       "    }\n",
       "</style>\n",
       "<table border=\"1\" class=\"dataframe\">\n",
       "  <thead>\n",
       "    <tr style=\"text-align: right;\">\n",
       "      <th></th>\n",
       "    </tr>\n",
       "  </thead>\n",
       "  <tbody>\n",
       "  </tbody>\n",
       "</table>\n",
       "</div>"
      ],
      "text/plain": [
       "Empty DataFrame\n",
       "Columns: []\n",
       "Index: []"
      ]
     },
     "execution_count": 131,
     "metadata": {},
     "output_type": "execute_result"
    }
   ],
   "source": [
    "spyKeyRatio"
   ]
  },
  {
   "cell_type": "code",
   "execution_count": 134,
   "metadata": {
    "id": "RyZTeq_ubyr2"
   },
   "outputs": [],
   "source": [
    "#Getting Ratio Data\n",
    "spyKeyRatio = pd.DataFrame()\n",
    "failTickers = []\n",
    "for ticker in tickers:\n",
    "    try:\n",
    "        ratioJsondata = getData('ratios', ticker, apikey)\n",
    "        sectorJsondata = getData('profile', ticker, apikey)\n",
    "        df = pd.DataFrame.from_dict(ratioJsondata, orient='columns')\n",
    "        df['industry']=sectorJsondata[0]['industry']\n",
    "        df['sector']=sectorJsondata[0]['sector']\n",
    "        df = df.drop(['period'], axis=1)\n",
    "        spyKeyRatio = pd.concat([spyKeyRatio,df], axis=0)\n",
    "    except:\n",
    "        failTickers.append(ticker)\n",
    "        pass"
   ]
  },
  {
   "cell_type": "markdown",
   "metadata": {},
   "source": [
    "<h1>Getting Price Data from Yahoo</h1>"
   ]
  },
  {
   "cell_type": "code",
   "execution_count": 38,
   "metadata": {
    "id": "Ma5UC6W1hJKv"
   },
   "outputs": [
    {
     "name": "stdout",
     "output_type": "stream",
     "text": [
      "[*********************100%***********************]  505 of 505 completed\n",
      "\n",
      "12 Failed downloads:\n",
      "- OGN: Data doesn't exist for startDate = 1454054400, endDate = 1454140800\n",
      "- OTIS: Data doesn't exist for startDate = 1454054400, endDate = 1454140800\n",
      "- IR: Data doesn't exist for startDate = 1454054400, endDate = 1454140800\n",
      "- LW: Data doesn't exist for startDate = 1454054400, endDate = 1454140800\n",
      "- CTVA: Data doesn't exist for startDate = 1454054400, endDate = 1454140800\n",
      "- DOW: Data doesn't exist for startDate = 1454054400, endDate = 1454140800\n",
      "- FTV: Data doesn't exist for startDate = 1454054400, endDate = 1454140800\n",
      "- UA: Data doesn't exist for startDate = 1454054400, endDate = 1454140800\n",
      "- CARR: Data doesn't exist for startDate = 1454054400, endDate = 1454140800\n",
      "- MRNA: Data doesn't exist for startDate = 1454054400, endDate = 1454140800\n",
      "- FOX: Data doesn't exist for startDate = 1454054400, endDate = 1454140800\n",
      "- FOXA: Data doesn't exist for startDate = 1454054400, endDate = 1454140800\n",
      "[*********************100%***********************]  505 of 505 completed\n",
      "\n",
      "9 Failed downloads:\n",
      "- OGN: Data doesn't exist for startDate = 1485763200, endDate = 1485849600\n",
      "- OTIS: Data doesn't exist for startDate = 1485763200, endDate = 1485849600\n",
      "- IR: Data doesn't exist for startDate = 1485763200, endDate = 1485849600\n",
      "- CTVA: Data doesn't exist for startDate = 1485763200, endDate = 1485849600\n",
      "- DOW: Data doesn't exist for startDate = 1485763200, endDate = 1485849600\n",
      "- CARR: Data doesn't exist for startDate = 1485763200, endDate = 1485849600\n",
      "- MRNA: Data doesn't exist for startDate = 1485763200, endDate = 1485849600\n",
      "- FOX: Data doesn't exist for startDate = 1485763200, endDate = 1485849600\n",
      "- FOXA: Data doesn't exist for startDate = 1485763200, endDate = 1485849600\n",
      "[**********************87%*****************      ]  440 of 505 completed"
     ]
    },
    {
     "name": "stderr",
     "output_type": "stream",
     "text": [
      "Exception in thread Thread-3988:\n",
      "Traceback (most recent call last):\n",
      "  File \"/home/jonghyeok/anaconda3/lib/python3.8/threading.py\", line 932, in _bootstrap_inner\n",
      "    self.run()\n",
      "  File \"/home/jonghyeok/anaconda3/lib/python3.8/threading.py\", line 870, in run\n",
      "    self._target(*self._args, **self._kwargs)\n",
      "  File \"/home/jonghyeok/.local/lib/python3.8/site-packages/multitasking/__init__.py\", line 102, in _run_via_pool\n",
      "    return callee(*args, **kwargs)\n",
      "  File \"/home/jonghyeok/anaconda3/lib/python3.8/site-packages/yfinance/multi.py\", line 169, in _download_one_threaded\n",
      "    data = _download_one(ticker, start, end, auto_adjust, back_adjust,\n",
      "  File \"/home/jonghyeok/anaconda3/lib/python3.8/site-packages/yfinance/multi.py\", line 181, in _download_one\n",
      "    return Ticker(ticker).history(period=period, interval=interval,\n",
      "  File \"/home/jonghyeok/anaconda3/lib/python3.8/site-packages/yfinance/base.py\", line 162, in history\n",
      "    data = data.json()\n",
      "  File \"/home/jonghyeok/.local/lib/python3.8/site-packages/requests/models.py\", line 898, in json\n",
      "    return complexjson.loads(self.text, **kwargs)\n",
      "  File \"/home/jonghyeok/anaconda3/lib/python3.8/json/__init__.py\", line 357, in loads\n",
      "    return _default_decoder.decode(s)\n",
      "  File \"/home/jonghyeok/anaconda3/lib/python3.8/json/decoder.py\", line 337, in decode\n",
      "    obj, end = self.raw_decode(s, idx=_w(s, 0).end())\n",
      "  File \"/home/jonghyeok/anaconda3/lib/python3.8/json/decoder.py\", line 355, in raw_decode\n",
      "    raise JSONDecodeError(\"Expecting value\", s, err.value) from None\n",
      "json.decoder.JSONDecodeError: Expecting value: line 1 column 1 (char 0)\n"
     ]
    },
    {
     "name": "stdout",
     "output_type": "stream",
     "text": [
      "[**********************89%******************     ]  450 of 505 completed"
     ]
    },
    {
     "name": "stderr",
     "output_type": "stream",
     "text": [
      "Exception in thread Thread-3997:\n",
      "Traceback (most recent call last):\n",
      "  File \"/home/jonghyeok/anaconda3/lib/python3.8/threading.py\", line 932, in _bootstrap_inner\n",
      "    self.run()\n",
      "  File \"/home/jonghyeok/anaconda3/lib/python3.8/threading.py\", line 870, in run\n",
      "    self._target(*self._args, **self._kwargs)\n",
      "  File \"/home/jonghyeok/.local/lib/python3.8/site-packages/multitasking/__init__.py\", line 102, in _run_via_pool\n",
      "    return callee(*args, **kwargs)\n",
      "  File \"/home/jonghyeok/anaconda3/lib/python3.8/site-packages/yfinance/multi.py\", line 169, in _download_one_threaded\n",
      "    data = _download_one(ticker, start, end, auto_adjust, back_adjust,\n",
      "  File \"/home/jonghyeok/anaconda3/lib/python3.8/site-packages/yfinance/multi.py\", line 181, in _download_one\n",
      "    return Ticker(ticker).history(period=period, interval=interval,\n",
      "  File \"/home/jonghyeok/anaconda3/lib/python3.8/site-packages/yfinance/base.py\", line 162, in history\n",
      "    data = data.json()\n",
      "  File \"/home/jonghyeok/.local/lib/python3.8/site-packages/requests/models.py\", line 898, in json\n",
      "    return complexjson.loads(self.text, **kwargs)\n",
      "  File \"/home/jonghyeok/anaconda3/lib/python3.8/json/__init__.py\", line 357, in loads\n",
      "    return _default_decoder.decode(s)\n",
      "  File \"/home/jonghyeok/anaconda3/lib/python3.8/json/decoder.py\", line 337, in decode\n",
      "    obj, end = self.raw_decode(s, idx=_w(s, 0).end())\n",
      "  File \"/home/jonghyeok/anaconda3/lib/python3.8/json/decoder.py\", line 355, in raw_decode\n",
      "    raise JSONDecodeError(\"Expecting value\", s, err.value) from None\n",
      "json.decoder.JSONDecodeError: Expecting value: line 1 column 1 (char 0)\n"
     ]
    },
    {
     "name": "stdout",
     "output_type": "stream",
     "text": [
      "[**********************92%*******************    ]  464 of 505 completed"
     ]
    },
    {
     "name": "stderr",
     "output_type": "stream",
     "text": [
      "Exception in thread Thread-4013:\n",
      "Traceback (most recent call last):\n",
      "  File \"/home/jonghyeok/anaconda3/lib/python3.8/threading.py\", line 932, in _bootstrap_inner\n",
      "    self.run()\n",
      "  File \"/home/jonghyeok/anaconda3/lib/python3.8/threading.py\", line 870, in run\n",
      "    self._target(*self._args, **self._kwargs)\n",
      "  File \"/home/jonghyeok/.local/lib/python3.8/site-packages/multitasking/__init__.py\", line 102, in _run_via_pool\n",
      "    return callee(*args, **kwargs)\n",
      "  File \"/home/jonghyeok/anaconda3/lib/python3.8/site-packages/yfinance/multi.py\", line 169, in _download_one_threaded\n",
      "    data = _download_one(ticker, start, end, auto_adjust, back_adjust,\n",
      "  File \"/home/jonghyeok/anaconda3/lib/python3.8/site-packages/yfinance/multi.py\", line 181, in _download_one\n",
      "    return Ticker(ticker).history(period=period, interval=interval,\n",
      "  File \"/home/jonghyeok/anaconda3/lib/python3.8/site-packages/yfinance/base.py\", line 162, in history\n",
      "    data = data.json()\n",
      "  File \"/home/jonghyeok/.local/lib/python3.8/site-packages/requests/models.py\", line 898, in json\n",
      "    return complexjson.loads(self.text, **kwargs)\n",
      "  File \"/home/jonghyeok/anaconda3/lib/python3.8/json/__init__.py\", line 357, in loads\n",
      "    return _default_decoder.decode(s)\n",
      "  File \"/home/jonghyeok/anaconda3/lib/python3.8/json/decoder.py\", line 337, in decode\n",
      "    obj, end = self.raw_decode(s, idx=_w(s, 0).end())\n",
      "  File \"/home/jonghyeok/anaconda3/lib/python3.8/json/decoder.py\", line 355, in raw_decode\n",
      "    raise JSONDecodeError(\"Expecting value\", s, err.value) from None\n",
      "json.decoder.JSONDecodeError: Expecting value: line 1 column 1 (char 0)\n"
     ]
    },
    {
     "name": "stdout",
     "output_type": "stream",
     "text": [
      "[**********************93%********************   ]  471 of 505 completed"
     ]
    },
    {
     "name": "stderr",
     "output_type": "stream",
     "text": [
      "Exception in thread Thread-4021:\n",
      "Traceback (most recent call last):\n",
      "  File \"/home/jonghyeok/anaconda3/lib/python3.8/threading.py\", line 932, in _bootstrap_inner\n",
      "    self.run()\n",
      "  File \"/home/jonghyeok/anaconda3/lib/python3.8/threading.py\", line 870, in run\n",
      "    self._target(*self._args, **self._kwargs)\n",
      "  File \"/home/jonghyeok/.local/lib/python3.8/site-packages/multitasking/__init__.py\", line 102, in _run_via_pool\n",
      "    return callee(*args, **kwargs)\n",
      "  File \"/home/jonghyeok/anaconda3/lib/python3.8/site-packages/yfinance/multi.py\", line 169, in _download_one_threaded\n",
      "    data = _download_one(ticker, start, end, auto_adjust, back_adjust,\n",
      "  File \"/home/jonghyeok/anaconda3/lib/python3.8/site-packages/yfinance/multi.py\", line 181, in _download_one\n",
      "    return Ticker(ticker).history(period=period, interval=interval,\n",
      "  File \"/home/jonghyeok/anaconda3/lib/python3.8/site-packages/yfinance/base.py\", line 162, in history\n",
      "    data = data.json()\n",
      "  File \"/home/jonghyeok/.local/lib/python3.8/site-packages/requests/models.py\", line 898, in json\n",
      "    return complexjson.loads(self.text, **kwargs)\n",
      "  File \"/home/jonghyeok/anaconda3/lib/python3.8/json/__init__.py\", line 357, in loads\n",
      "    return _default_decoder.decode(s)\n",
      "  File \"/home/jonghyeok/anaconda3/lib/python3.8/json/decoder.py\", line 337, in decode\n",
      "    obj, end = self.raw_decode(s, idx=_w(s, 0).end())\n",
      "  File \"/home/jonghyeok/anaconda3/lib/python3.8/json/decoder.py\", line 355, in raw_decode\n",
      "    raise JSONDecodeError(\"Expecting value\", s, err.value) from None\n",
      "json.decoder.JSONDecodeError: Expecting value: line 1 column 1 (char 0)\n"
     ]
    },
    {
     "name": "stdout",
     "output_type": "stream",
     "text": [
      "[**********************99%***********************]  500 of 505 completed"
     ]
    },
    {
     "ename": "KeyboardInterrupt",
     "evalue": "",
     "output_type": "error",
     "traceback": [
      "\u001b[0;31m---------------------------------------------------------------------------\u001b[0m",
      "\u001b[0;31mKeyboardInterrupt\u001b[0m                         Traceback (most recent call last)",
      "\u001b[0;32m<ipython-input-38-9fe717a48c2e>\u001b[0m in \u001b[0;36m<module>\u001b[0;34m\u001b[0m\n\u001b[1;32m      5\u001b[0m \u001b[0;32mfor\u001b[0m \u001b[0mstartDate\u001b[0m \u001b[0;32min\u001b[0m \u001b[0mstartDate\u001b[0m\u001b[0;34m:\u001b[0m\u001b[0;34m\u001b[0m\u001b[0;34m\u001b[0m\u001b[0m\n\u001b[1;32m      6\u001b[0m   \u001b[0mendDate\u001b[0m \u001b[0;34m=\u001b[0m \u001b[0mstartDate\u001b[0m \u001b[0;34m+\u001b[0m \u001b[0mpd\u001b[0m\u001b[0;34m.\u001b[0m\u001b[0mDateOffset\u001b[0m\u001b[0;34m(\u001b[0m\u001b[0mdays\u001b[0m \u001b[0;34m=\u001b[0m \u001b[0;36m1\u001b[0m\u001b[0;34m)\u001b[0m\u001b[0;34m\u001b[0m\u001b[0;34m\u001b[0m\u001b[0m\n\u001b[0;32m----> 7\u001b[0;31m   \u001b[0mprice\u001b[0m \u001b[0;34m=\u001b[0m \u001b[0mpdr\u001b[0m\u001b[0;34m.\u001b[0m\u001b[0mget_data_yahoo\u001b[0m\u001b[0;34m(\u001b[0m\u001b[0mtickers\u001b[0m\u001b[0;34m,\u001b[0m \u001b[0mstart\u001b[0m\u001b[0;34m=\u001b[0m\u001b[0mstartDate\u001b[0m\u001b[0;34m,\u001b[0m \u001b[0mend\u001b[0m\u001b[0;34m=\u001b[0m\u001b[0mendDate\u001b[0m\u001b[0;34m)\u001b[0m\u001b[0;34m\u001b[0m\u001b[0;34m\u001b[0m\u001b[0m\n\u001b[0m\u001b[1;32m      8\u001b[0m   \u001b[0mprice\u001b[0m \u001b[0;34m=\u001b[0m \u001b[0mprice\u001b[0m\u001b[0;34m[\u001b[0m\u001b[0;34m'Adj Close'\u001b[0m\u001b[0;34m]\u001b[0m\u001b[0;34m.\u001b[0m\u001b[0mstack\u001b[0m\u001b[0;34m(\u001b[0m\u001b[0;34m)\u001b[0m\u001b[0;34m.\u001b[0m\u001b[0mreset_index\u001b[0m\u001b[0;34m(\u001b[0m\u001b[0;34m)\u001b[0m\u001b[0;34m\u001b[0m\u001b[0;34m\u001b[0m\u001b[0m\n\u001b[1;32m      9\u001b[0m   \u001b[0myearlyPrice\u001b[0m \u001b[0;34m=\u001b[0m \u001b[0mpd\u001b[0m\u001b[0;34m.\u001b[0m\u001b[0mconcat\u001b[0m\u001b[0;34m(\u001b[0m\u001b[0;34m[\u001b[0m\u001b[0myearlyPrice\u001b[0m\u001b[0;34m,\u001b[0m\u001b[0mprice\u001b[0m\u001b[0;34m]\u001b[0m\u001b[0;34m,\u001b[0m \u001b[0maxis\u001b[0m\u001b[0;34m=\u001b[0m\u001b[0;36m0\u001b[0m\u001b[0;34m)\u001b[0m\u001b[0;34m\u001b[0m\u001b[0;34m\u001b[0m\u001b[0m\n",
      "\u001b[0;32m~/anaconda3/lib/python3.8/site-packages/yfinance/multi.py\u001b[0m in \u001b[0;36mdownload\u001b[0;34m(tickers, start, end, actions, threads, group_by, auto_adjust, back_adjust, progress, period, show_errors, interval, prepost, proxy, rounding, **kwargs)\u001b[0m\n\u001b[1;32m     95\u001b[0m                                    rounding=rounding)\n\u001b[1;32m     96\u001b[0m         \u001b[0;32mwhile\u001b[0m \u001b[0mlen\u001b[0m\u001b[0;34m(\u001b[0m\u001b[0mshared\u001b[0m\u001b[0;34m.\u001b[0m\u001b[0m_DFS\u001b[0m\u001b[0;34m)\u001b[0m \u001b[0;34m<\u001b[0m \u001b[0mlen\u001b[0m\u001b[0;34m(\u001b[0m\u001b[0mtickers\u001b[0m\u001b[0;34m)\u001b[0m\u001b[0;34m:\u001b[0m\u001b[0;34m\u001b[0m\u001b[0;34m\u001b[0m\u001b[0m\n\u001b[0;32m---> 97\u001b[0;31m             \u001b[0m_time\u001b[0m\u001b[0;34m.\u001b[0m\u001b[0msleep\u001b[0m\u001b[0;34m(\u001b[0m\u001b[0;36m0.01\u001b[0m\u001b[0;34m)\u001b[0m\u001b[0;34m\u001b[0m\u001b[0;34m\u001b[0m\u001b[0m\n\u001b[0m\u001b[1;32m     98\u001b[0m \u001b[0;34m\u001b[0m\u001b[0m\n\u001b[1;32m     99\u001b[0m     \u001b[0;31m# download synchronously\u001b[0m\u001b[0;34m\u001b[0m\u001b[0;34m\u001b[0m\u001b[0;34m\u001b[0m\u001b[0m\n",
      "\u001b[0;31mKeyboardInterrupt\u001b[0m: "
     ]
    }
   ],
   "source": [
    "yf.pdr_override()\n",
    "years = [\"2016-01-29\",\"2017-01-30\",\"2018-01-30\",\"2019-01-30\",\"2020-01-30\",\"2021-01-29\"]\n",
    "startDate = pd.to_datetime(years, format='%Y-%m-%d') \n",
    "yearlyPrice = pd.DataFrame()\n",
    "for startDate in startDate:\n",
    "    endDate = startDate + pd.DateOffset(days = 1)\n",
    "    price = pdr.get_data_yahoo(tickers, start=startDate, end=endDate)\n",
    "    price = price['Adj Close'].stack().reset_index()\n",
    "    yearlyPrice = pd.concat([yearlyPrice,price], axis=0)"
   ]
  },
  {
   "cell_type": "code",
   "execution_count": 50,
   "metadata": {},
   "outputs": [],
   "source": [
    "#priceData From Google Colab\n",
    "yearlyPrice = pd.read_csv('priceData.csv')\n",
    "yearlyPrice = yearlyPrice.drop(\"Unnamed: 0\", axis=1)\n",
    "yearlyPrice = yearlyPrice.rename(columns={\"level_1\": \"ticker\", \"0\":\"price\"})\n",
    "yearlyPrice = yearlyPrice.sort_values(by=['ticker','Date']).reset_index(drop=True) "
   ]
  },
  {
   "cell_type": "code",
   "execution_count": 60,
   "metadata": {
    "colab": {
     "base_uri": "https://localhost:8080/"
    },
    "id": "RLlx3gXyCQXN",
    "outputId": "18652b10-8f81-49fd-ea0f-8c6ec568432d"
   },
   "outputs": [
    {
     "name": "stdout",
     "output_type": "stream",
     "text": [
      "[*********************100%***********************]  1 of 1 completed\n",
      "[*********************100%***********************]  1 of 1 completed\n",
      "[*********************100%***********************]  1 of 1 completed\n",
      "[*********************100%***********************]  1 of 1 completed\n",
      "[*********************100%***********************]  1 of 1 completed\n",
      "[*********************100%***********************]  1 of 1 completed\n"
     ]
    }
   ],
   "source": [
    "years = [\"2016-01-29\",\"2017-01-30\",\"2018-01-30\",\"2019-01-30\",\"2020-01-30\",\"2021-01-29\"]\n",
    "startDate = pd.to_datetime(years, format='%Y-%m-%d') \n",
    "spyPrice = pd.DataFrame()\n",
    "for startDate in startDate:\n",
    "    endDate = startDate + pd.DateOffset(days = 1)\n",
    "    price = pdr.get_data_yahoo(\"SPY\", start=startDate, end=endDate)\n",
    "    price = price['Adj Close']\n",
    "    spyPrice = pd.concat([spyPrice,price], axis=0)"
   ]
  },
  {
   "cell_type": "code",
   "execution_count": 107,
   "metadata": {
    "colab": {
     "base_uri": "https://localhost:8080/",
     "height": 424
    },
    "id": "nOO9c3aNHsiK",
    "outputId": "9632a770-26ae-42c7-ac6e-2f9200478845"
   },
   "outputs": [
    {
     "name": "stderr",
     "output_type": "stream",
     "text": [
      "<ipython-input-107-bd8f0fb27ab6>:3: FutureWarning: Passing <class 'int'> to shift is deprecated and will raise in a future version, pass Timestamp instead.\n",
      "  shifted = mergedPrice.shift(periods=1, axis=\"rows\", fill_value=0)\n"
     ]
    }
   ],
   "source": [
    "yearlyPrice['Date'] = pd.to_datetime(yearlyPrice['Date'], format='%Y-%m-%d')\n",
    "mergedPrice = yearlyPrice.merge(spyPrice,on='Date').sort_values(by=['ticker','Date']).reset_index(drop=True)\n",
    "shifted = mergedPrice.shift(periods=1, axis=\"rows\", fill_value=0)"
   ]
  },
  {
   "cell_type": "code",
   "execution_count": 128,
   "metadata": {},
   "outputs": [],
   "source": [
    "mergedPrice['eq'] = mergedPrice['ticker'].eq(shifted['ticker'])"
   ]
  },
  {
   "cell_type": "code",
   "execution_count": 125,
   "metadata": {},
   "outputs": [],
   "source": [
    "subt = mergedPrice[['price','Adj Close']].subtract(shifted[['price','Adj Close']])\n",
    "mergedPrice[['tickerC','spyC']]=subt[['price','Adj Close']] / mergedPrice[['price','Adj Close']]"
   ]
  },
  {
   "cell_type": "code",
   "execution_count": 126,
   "metadata": {},
   "outputs": [],
   "source": [
    "priceComp = mergedPrice[mergedPrice['eq']==True].drop(['price','Adj Close','eq'], axis=1).reset_index(drop=True)\n",
    "priceComp['diff'] = priceComp['ticekrC']-priceComp['spyC']"
   ]
  },
  {
   "cell_type": "code",
   "execution_count": 127,
   "metadata": {},
   "outputs": [
    {
     "data": {
      "text/html": [
       "<div>\n",
       "<style scoped>\n",
       "    .dataframe tbody tr th:only-of-type {\n",
       "        vertical-align: middle;\n",
       "    }\n",
       "\n",
       "    .dataframe tbody tr th {\n",
       "        vertical-align: top;\n",
       "    }\n",
       "\n",
       "    .dataframe thead th {\n",
       "        text-align: right;\n",
       "    }\n",
       "</style>\n",
       "<table border=\"1\" class=\"dataframe\">\n",
       "  <thead>\n",
       "    <tr style=\"text-align: right;\">\n",
       "      <th></th>\n",
       "      <th>Date</th>\n",
       "      <th>ticker</th>\n",
       "      <th>ticekrC</th>\n",
       "      <th>spyC</th>\n",
       "      <th>tickerC</th>\n",
       "      <th>diff</th>\n",
       "    </tr>\n",
       "  </thead>\n",
       "  <tbody>\n",
       "    <tr>\n",
       "      <th>0</th>\n",
       "      <td>2017-01-30</td>\n",
       "      <td>A</td>\n",
       "      <td>0.218752</td>\n",
       "      <td>0.166568</td>\n",
       "      <td>0.218752</td>\n",
       "      <td>0.052184</td>\n",
       "    </tr>\n",
       "    <tr>\n",
       "      <th>1</th>\n",
       "      <td>2018-01-30</td>\n",
       "      <td>A</td>\n",
       "      <td>0.352731</td>\n",
       "      <td>0.207799</td>\n",
       "      <td>0.352731</td>\n",
       "      <td>0.144932</td>\n",
       "    </tr>\n",
       "    <tr>\n",
       "      <th>2</th>\n",
       "      <td>2019-01-30</td>\n",
       "      <td>A</td>\n",
       "      <td>0.041362</td>\n",
       "      <td>-0.033365</td>\n",
       "      <td>0.041362</td>\n",
       "      <td>0.074727</td>\n",
       "    </tr>\n",
       "    <tr>\n",
       "      <th>3</th>\n",
       "      <td>2020-01-30</td>\n",
       "      <td>A</td>\n",
       "      <td>0.113516</td>\n",
       "      <td>0.198586</td>\n",
       "      <td>0.113516</td>\n",
       "      <td>-0.085070</td>\n",
       "    </tr>\n",
       "    <tr>\n",
       "      <th>4</th>\n",
       "      <td>2021-01-29</td>\n",
       "      <td>A</td>\n",
       "      <td>0.303478</td>\n",
       "      <td>0.130778</td>\n",
       "      <td>0.303478</td>\n",
       "      <td>0.172700</td>\n",
       "    </tr>\n",
       "    <tr>\n",
       "      <th>...</th>\n",
       "      <td>...</td>\n",
       "      <td>...</td>\n",
       "      <td>...</td>\n",
       "      <td>...</td>\n",
       "      <td>...</td>\n",
       "      <td>...</td>\n",
       "    </tr>\n",
       "    <tr>\n",
       "      <th>2472</th>\n",
       "      <td>2017-01-30</td>\n",
       "      <td>ZTS</td>\n",
       "      <td>0.213172</td>\n",
       "      <td>0.166568</td>\n",
       "      <td>0.213172</td>\n",
       "      <td>0.046604</td>\n",
       "    </tr>\n",
       "    <tr>\n",
       "      <th>2473</th>\n",
       "      <td>2018-01-30</td>\n",
       "      <td>ZTS</td>\n",
       "      <td>0.312070</td>\n",
       "      <td>0.207799</td>\n",
       "      <td>0.312070</td>\n",
       "      <td>0.104271</td>\n",
       "    </tr>\n",
       "    <tr>\n",
       "      <th>2474</th>\n",
       "      <td>2019-01-30</td>\n",
       "      <td>ZTS</td>\n",
       "      <td>0.084968</td>\n",
       "      <td>-0.033365</td>\n",
       "      <td>0.084968</td>\n",
       "      <td>0.118333</td>\n",
       "    </tr>\n",
       "    <tr>\n",
       "      <th>2475</th>\n",
       "      <td>2020-01-30</td>\n",
       "      <td>ZTS</td>\n",
       "      <td>0.387120</td>\n",
       "      <td>0.198586</td>\n",
       "      <td>0.387120</td>\n",
       "      <td>0.188534</td>\n",
       "    </tr>\n",
       "    <tr>\n",
       "      <th>2476</th>\n",
       "      <td>2021-01-29</td>\n",
       "      <td>ZTS</td>\n",
       "      <td>0.110344</td>\n",
       "      <td>0.130778</td>\n",
       "      <td>0.110344</td>\n",
       "      <td>-0.020435</td>\n",
       "    </tr>\n",
       "  </tbody>\n",
       "</table>\n",
       "<p>2477 rows × 6 columns</p>\n",
       "</div>"
      ],
      "text/plain": [
       "           Date ticker   ticekrC      spyC   tickerC      diff\n",
       "0    2017-01-30      A  0.218752  0.166568  0.218752  0.052184\n",
       "1    2018-01-30      A  0.352731  0.207799  0.352731  0.144932\n",
       "2    2019-01-30      A  0.041362 -0.033365  0.041362  0.074727\n",
       "3    2020-01-30      A  0.113516  0.198586  0.113516 -0.085070\n",
       "4    2021-01-29      A  0.303478  0.130778  0.303478  0.172700\n",
       "...         ...    ...       ...       ...       ...       ...\n",
       "2472 2017-01-30    ZTS  0.213172  0.166568  0.213172  0.046604\n",
       "2473 2018-01-30    ZTS  0.312070  0.207799  0.312070  0.104271\n",
       "2474 2019-01-30    ZTS  0.084968 -0.033365  0.084968  0.118333\n",
       "2475 2020-01-30    ZTS  0.387120  0.198586  0.387120  0.188534\n",
       "2476 2021-01-29    ZTS  0.110344  0.130778  0.110344 -0.020435\n",
       "\n",
       "[2477 rows x 6 columns]"
      ]
     },
     "execution_count": 127,
     "metadata": {},
     "output_type": "execute_result"
    }
   ],
   "source": [
    "priceComp['date'] = priceComp['Date'] "
   ]
  },
  {
   "cell_type": "code",
   "execution_count": 192,
   "metadata": {},
   "outputs": [
    {
     "data": {
      "text/html": [
       "<div>\n",
       "<style scoped>\n",
       "    .dataframe tbody tr th:only-of-type {\n",
       "        vertical-align: middle;\n",
       "    }\n",
       "\n",
       "    .dataframe tbody tr th {\n",
       "        vertical-align: top;\n",
       "    }\n",
       "\n",
       "    .dataframe thead th {\n",
       "        text-align: right;\n",
       "    }\n",
       "</style>\n",
       "<table border=\"1\" class=\"dataframe\">\n",
       "  <thead>\n",
       "    <tr style=\"text-align: right;\">\n",
       "      <th></th>\n",
       "      <th>ticker</th>\n",
       "      <th>date</th>\n",
       "      <th>currentRatio</th>\n",
       "      <th>quickRatio</th>\n",
       "      <th>cashRatio</th>\n",
       "      <th>daysOfSalesOutstanding</th>\n",
       "      <th>daysOfInventoryOutstanding</th>\n",
       "      <th>operatingCycle</th>\n",
       "      <th>daysOfPayablesOutstanding</th>\n",
       "      <th>cashConversionCycle</th>\n",
       "      <th>...</th>\n",
       "      <th>priceFairValue</th>\n",
       "      <th>industry</th>\n",
       "      <th>sector</th>\n",
       "      <th>year</th>\n",
       "      <th>Date</th>\n",
       "      <th>ticekrC</th>\n",
       "      <th>spyC</th>\n",
       "      <th>tickerC</th>\n",
       "      <th>diff</th>\n",
       "      <th>outPerform</th>\n",
       "    </tr>\n",
       "  </thead>\n",
       "  <tbody>\n",
       "    <tr>\n",
       "      <th>9</th>\n",
       "      <td>AAPL</td>\n",
       "      <td>2016-09-24</td>\n",
       "      <td>1.352669</td>\n",
       "      <td>1.049401</td>\n",
       "      <td>0.259271</td>\n",
       "      <td>26.665909</td>\n",
       "      <td>5.923304</td>\n",
       "      <td>32.589213</td>\n",
       "      <td>103.613369</td>\n",
       "      <td>-71.024156</td>\n",
       "      <td>...</td>\n",
       "      <td>5.018690</td>\n",
       "      <td>Consumer Electronics</td>\n",
       "      <td>Technology</td>\n",
       "      <td>2017</td>\n",
       "      <td>2017-01-30</td>\n",
       "      <td>0.218294</td>\n",
       "      <td>0.166568</td>\n",
       "      <td>0.218294</td>\n",
       "      <td>0.051726</td>\n",
       "      <td>False</td>\n",
       "    </tr>\n",
       "    <tr>\n",
       "      <th>10</th>\n",
       "      <td>AAPL</td>\n",
       "      <td>2017-09-30</td>\n",
       "      <td>1.276063</td>\n",
       "      <td>1.089670</td>\n",
       "      <td>0.201252</td>\n",
       "      <td>56.800671</td>\n",
       "      <td>12.563631</td>\n",
       "      <td>69.364302</td>\n",
       "      <td>126.927606</td>\n",
       "      <td>-57.563304</td>\n",
       "      <td>...</td>\n",
       "      <td>6.488908</td>\n",
       "      <td>Consumer Electronics</td>\n",
       "      <td>Technology</td>\n",
       "      <td>2018</td>\n",
       "      <td>2018-01-30</td>\n",
       "      <td>0.283075</td>\n",
       "      <td>0.207799</td>\n",
       "      <td>0.283075</td>\n",
       "      <td>0.075276</td>\n",
       "      <td>False</td>\n",
       "    </tr>\n",
       "    <tr>\n",
       "      <th>11</th>\n",
       "      <td>AAPL</td>\n",
       "      <td>2018-09-29</td>\n",
       "      <td>1.123843</td>\n",
       "      <td>0.986566</td>\n",
       "      <td>0.221733</td>\n",
       "      <td>67.332499</td>\n",
       "      <td>8.817631</td>\n",
       "      <td>76.150130</td>\n",
       "      <td>124.570214</td>\n",
       "      <td>-48.420084</td>\n",
       "      <td>...</td>\n",
       "      <td>9.815760</td>\n",
       "      <td>Consumer Electronics</td>\n",
       "      <td>Technology</td>\n",
       "      <td>2019</td>\n",
       "      <td>2019-01-30</td>\n",
       "      <td>0.004536</td>\n",
       "      <td>-0.033365</td>\n",
       "      <td>0.004536</td>\n",
       "      <td>0.037901</td>\n",
       "      <td>False</td>\n",
       "    </tr>\n",
       "    <tr>\n",
       "      <th>12</th>\n",
       "      <td>AAPL</td>\n",
       "      <td>2019-09-28</td>\n",
       "      <td>1.540126</td>\n",
       "      <td>1.384447</td>\n",
       "      <td>0.462022</td>\n",
       "      <td>64.258765</td>\n",
       "      <td>9.263639</td>\n",
       "      <td>73.522404</td>\n",
       "      <td>104.314077</td>\n",
       "      <td>-30.791673</td>\n",
       "      <td>...</td>\n",
       "      <td>12.709658</td>\n",
       "      <td>Consumer Electronics</td>\n",
       "      <td>Technology</td>\n",
       "      <td>2020</td>\n",
       "      <td>2020-01-30</td>\n",
       "      <td>0.497317</td>\n",
       "      <td>0.198586</td>\n",
       "      <td>0.497317</td>\n",
       "      <td>0.298731</td>\n",
       "      <td>True</td>\n",
       "    </tr>\n",
       "    <tr>\n",
       "      <th>13</th>\n",
       "      <td>AAPL</td>\n",
       "      <td>2020-09-26</td>\n",
       "      <td>1.363604</td>\n",
       "      <td>1.218195</td>\n",
       "      <td>0.360710</td>\n",
       "      <td>49.787534</td>\n",
       "      <td>8.741883</td>\n",
       "      <td>58.529418</td>\n",
       "      <td>91.048190</td>\n",
       "      <td>-32.518772</td>\n",
       "      <td>...</td>\n",
       "      <td>30.553901</td>\n",
       "      <td>Consumer Electronics</td>\n",
       "      <td>Technology</td>\n",
       "      <td>2021</td>\n",
       "      <td>2021-01-29</td>\n",
       "      <td>0.391677</td>\n",
       "      <td>0.130778</td>\n",
       "      <td>0.391677</td>\n",
       "      <td>0.260899</td>\n",
       "      <td>True</td>\n",
       "    </tr>\n",
       "  </tbody>\n",
       "</table>\n",
       "<p>5 rows × 65 columns</p>\n",
       "</div>"
      ],
      "text/plain": [
       "   ticker        date  currentRatio  quickRatio  cashRatio  \\\n",
       "9    AAPL  2016-09-24      1.352669    1.049401   0.259271   \n",
       "10   AAPL  2017-09-30      1.276063    1.089670   0.201252   \n",
       "11   AAPL  2018-09-29      1.123843    0.986566   0.221733   \n",
       "12   AAPL  2019-09-28      1.540126    1.384447   0.462022   \n",
       "13   AAPL  2020-09-26      1.363604    1.218195   0.360710   \n",
       "\n",
       "    daysOfSalesOutstanding  daysOfInventoryOutstanding  operatingCycle  \\\n",
       "9                26.665909                    5.923304       32.589213   \n",
       "10               56.800671                   12.563631       69.364302   \n",
       "11               67.332499                    8.817631       76.150130   \n",
       "12               64.258765                    9.263639       73.522404   \n",
       "13               49.787534                    8.741883       58.529418   \n",
       "\n",
       "    daysOfPayablesOutstanding  cashConversionCycle  ...  priceFairValue  \\\n",
       "9                  103.613369           -71.024156  ...        5.018690   \n",
       "10                 126.927606           -57.563304  ...        6.488908   \n",
       "11                 124.570214           -48.420084  ...        9.815760   \n",
       "12                 104.314077           -30.791673  ...       12.709658   \n",
       "13                  91.048190           -32.518772  ...       30.553901   \n",
       "\n",
       "                industry      sector  year       Date   ticekrC      spyC  \\\n",
       "9   Consumer Electronics  Technology  2017 2017-01-30  0.218294  0.166568   \n",
       "10  Consumer Electronics  Technology  2018 2018-01-30  0.283075  0.207799   \n",
       "11  Consumer Electronics  Technology  2019 2019-01-30  0.004536 -0.033365   \n",
       "12  Consumer Electronics  Technology  2020 2020-01-30  0.497317  0.198586   \n",
       "13  Consumer Electronics  Technology  2021 2021-01-29  0.391677  0.130778   \n",
       "\n",
       "     tickerC      diff  outPerform  \n",
       "9   0.218294  0.051726       False  \n",
       "10  0.283075  0.075276       False  \n",
       "11  0.004536  0.037901       False  \n",
       "12  0.497317  0.298731        True  \n",
       "13  0.391677  0.260899        True  \n",
       "\n",
       "[5 rows x 65 columns]"
      ]
     },
     "execution_count": 192,
     "metadata": {},
     "output_type": "execute_result"
    }
   ],
   "source": [
    "ratioData[ratioData['ticker']=='AAPL']"
   ]
  },
  {
   "cell_type": "code",
   "execution_count": 140,
   "metadata": {},
   "outputs": [],
   "source": [
    "ratioData = pd.read_csv('ratio.csv')\n",
    "ratioData = ratioData.drop('Unnamed: 0',axis=1).sort_values(by=['symbol','date'])"
   ]
  },
  {
   "cell_type": "code",
   "execution_count": 159,
   "metadata": {},
   "outputs": [],
   "source": [
    "ratioData = ratioData.rename(columns={'symbol':'ticker'})"
   ]
  },
  {
   "cell_type": "code",
   "execution_count": 152,
   "metadata": {},
   "outputs": [],
   "source": [
    "ratioData['year'] = pd.DatetimeIndex(ratioData['date']).year"
   ]
  },
  {
   "cell_type": "code",
   "execution_count": 153,
   "metadata": {},
   "outputs": [],
   "source": [
    "ratioData['year'] = ratioData['year']+1\n",
    "priceComp['year'] = pd.DatetimeIndex(priceComp['Date']).year"
   ]
  },
  {
   "cell_type": "code",
   "execution_count": 161,
   "metadata": {},
   "outputs": [],
   "source": [
    "ratioData = ratioData.merge(priceComp, on=['ticker','year'])\n",
    "ratioData['outPerform'] = ratioData['diff'] >= 0.1 "
   ]
  },
  {
   "cell_type": "code",
   "execution_count": 180,
   "metadata": {},
   "outputs": [],
   "source": [
    "finalData = ratioData.drop(['year','Date','tickerC','spyC','ticekrC','diff','ticker','date','industry','sector'],axis=1)"
   ]
  },
  {
   "cell_type": "code",
   "execution_count": 181,
   "metadata": {},
   "outputs": [],
   "source": [
    "y = finalData['outPerform'].values\n",
    "X = finalData.drop('outPerform',axis=1).values"
   ]
  },
  {
   "cell_type": "code",
   "execution_count": 182,
   "metadata": {},
   "outputs": [],
   "source": [
    "X_train, X_valid, y_train, y_valid = train_test_split(X, y)"
   ]
  },
  {
   "cell_type": "code",
   "execution_count": 186,
   "metadata": {},
   "outputs": [],
   "source": [
    "rf_stock_model = RandomForestClassifier(n_estimators=100, max_depth=10, min_samples_leaf=5)"
   ]
  },
  {
   "cell_type": "code",
   "execution_count": 187,
   "metadata": {},
   "outputs": [
    {
     "data": {
      "text/plain": [
       "RandomForestClassifier(max_depth=10, min_samples_leaf=5)"
      ]
     },
     "execution_count": 187,
     "metadata": {},
     "output_type": "execute_result"
    }
   ],
   "source": [
    "rf_stock_model.fit(X_train,y_train)"
   ]
  },
  {
   "cell_type": "code",
   "execution_count": 188,
   "metadata": {},
   "outputs": [
    {
     "data": {
      "text/plain": [
       "0.765625"
      ]
     },
     "execution_count": 188,
     "metadata": {},
     "output_type": "execute_result"
    }
   ],
   "source": [
    "rf_stock_model.score(X_valid, y_valid)"
   ]
  }
 ],
 "metadata": {
  "colab": {
   "name": "stockML.ipynb",
   "provenance": []
  },
  "kernelspec": {
   "display_name": "Python 3",
   "language": "python",
   "name": "python3"
  },
  "language_info": {
   "codemirror_mode": {
    "name": "ipython",
    "version": 3
   },
   "file_extension": ".py",
   "mimetype": "text/x-python",
   "name": "python",
   "nbconvert_exporter": "python",
   "pygments_lexer": "ipython3",
   "version": "3.8.8"
  }
 },
 "nbformat": 4,
 "nbformat_minor": 1
}
