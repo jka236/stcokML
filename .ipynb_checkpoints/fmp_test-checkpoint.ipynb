{
 "cells": [
  {
   "cell_type": "code",
   "execution_count": 4,
   "id": "b1995433",
   "metadata": {},
   "outputs": [],
   "source": [
    "import os\n",
    "from dotenv import load_dotenv\n",
    "import typing\n",
    "from fmp_python.fmp import FMP\n",
    "import pandas as pd\n",
    "import numpy as np\n",
    "from urllib.request import urlopen\n",
    "import json"
   ]
  },
  {
   "cell_type": "code",
   "execution_count": 122,
   "id": "8b68e384",
   "metadata": {},
   "outputs": [],
   "source": [
    "spyTicker = np.loadtxt('sp500tickers.csv', delimiter=\",\", dtype=str)\n",
    "testTickers = spyTicker[0:2]"
   ]
  },
  {
   "cell_type": "code",
   "execution_count": 89,
   "id": "70eb6de4",
   "metadata": {},
   "outputs": [],
   "source": [
    "spyKeyRatio = pd.DataFrame()"
   ]
  },
  {
   "cell_type": "code",
   "execution_count": 90,
   "id": "7dc09c9c",
   "metadata": {},
   "outputs": [
    {
     "data": {
      "text/plain": [
       "array(['MMM', 'ABT', 'ABBV', 'ABMD', 'ACN', 'ATVI', 'ADBE', 'AMD', 'AAP',\n",
       "       'AES', 'AFL'], dtype='<U5')"
      ]
     },
     "execution_count": 90,
     "metadata": {},
     "output_type": "execute_result"
    }
   ],
   "source": [
    "testTickers"
   ]
  },
  {
   "cell_type": "code",
   "execution_count": 91,
   "id": "2c3d9a1c",
   "metadata": {},
   "outputs": [
    {
     "data": {
      "text/plain": [
       "'b329a8c1d83f4b0d64717303f0abc9d6'"
      ]
     },
     "execution_count": 91,
     "metadata": {},
     "output_type": "execute_result"
    }
   ],
   "source": [
    "load_dotenv()\n",
    "apikey = os.environ.get(\"apikey\")\n",
    "spyKeyRatio = pd.DataFrame()"
   ]
  },
  {
   "cell_type": "code",
   "execution_count": null,
   "id": "9c00ebfa",
   "metadata": {},
   "outputs": [],
   "source": [
    "#!/usr/bin/env python\n",
    "\n",
    "def get_jsonparsed_data(url):\n",
    "    \"\"\"\n",
    "    Receive the content of ``url``, parse it as JSON and return the object.\n",
    "\n",
    "    Parameters\n",
    "    ----------\n",
    "    url : str\n",
    "\n",
    "    Returns\n",
    "    -------\n",
    "    dict\n",
    "    \"\"\"\n",
    "    response = urlopen(url)\n",
    "    data = response.read().decode(\"utf-8\")\n",
    "    return json.loads(data)"
   ]
  },
  {
   "cell_type": "code",
   "execution_count": 135,
   "id": "9694ce34",
   "metadata": {},
   "outputs": [],
   "source": [
    "def getData(datatype, ticker, apikey):\n",
    "    url = (\"https://financialmodelingprep.com/api/v3/\"+datatype+\"/\"+ticker+\"?&apikey=\"+apikey)\n",
    "    jsonData = get_jsonparsed_data(url)\n",
    "    return jsonData"
   ]
  },
  {
   "cell_type": "code",
   "execution_count": 140,
   "id": "9a6cd1b8",
   "metadata": {},
   "outputs": [],
   "source": [
    "#Getting Ratio Data\n",
    "for ticker in testTickers:\n",
    "    ratioJsondata = getData('ratios', ticker, apikey)\n",
    "    sectorJsondata = getData('profile', ticker, apikey)\n",
    "    df = pd.DataFrame.from_dict(ratioJsondata, orient='columns')\n",
    "    df['industry']=sectorJsondata[0]['industry']\n",
    "    df['sector']=sectorJsondata[0]['sector']\n",
    "    df = df.drop(['period'], axis=1)\n",
    "    spyKeyRatio = pd.concat([spyKeyRatio,df], axis=0)"
   ]
  }
 ],
 "metadata": {
  "kernelspec": {
   "display_name": "Python 3",
   "language": "python",
   "name": "python3"
  },
  "language_info": {
   "codemirror_mode": {
    "name": "ipython",
    "version": 3
   },
   "file_extension": ".py",
   "mimetype": "text/x-python",
   "name": "python",
   "nbconvert_exporter": "python",
   "pygments_lexer": "ipython3",
   "version": "3.8.8"
  }
 },
 "nbformat": 4,
 "nbformat_minor": 5
}
