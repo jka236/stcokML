{
  "nbformat": 4,
  "nbformat_minor": 0,
  "metadata": {
    "colab": {
      "name": "stockMLclean",
      "provenance": [],
      "collapsed_sections": []
    },
    "kernelspec": {
      "name": "python3",
      "display_name": "Python 3"
    },
    "language_info": {
      "name": "python"
    }
  },
  "cells": [
    {
      "cell_type": "code",
      "metadata": {
        "colab": {
          "base_uri": "https://localhost:8080/"
        },
        "id": "k-C3fCL3ci8a",
        "outputId": "9e1409b2-2253-4771-fe83-8e5889d76be0"
      },
      "source": [
        "!pip install yfinance\n",
        "!pip install python-dotenv\n",
        "!pip install fmp_python\n",
        "!pip install category_encoders"
      ],
      "execution_count": 36,
      "outputs": [
        {
          "output_type": "stream",
          "name": "stdout",
          "text": [
            "Requirement already satisfied: yfinance in /usr/local/lib/python3.7/dist-packages (0.1.63)\n",
            "Requirement already satisfied: multitasking>=0.0.7 in /usr/local/lib/python3.7/dist-packages (from yfinance) (0.0.9)\n",
            "Requirement already satisfied: pandas>=0.24 in /usr/local/lib/python3.7/dist-packages (from yfinance) (1.1.5)\n",
            "Requirement already satisfied: requests>=2.20 in /usr/local/lib/python3.7/dist-packages (from yfinance) (2.23.0)\n",
            "Requirement already satisfied: numpy>=1.15 in /usr/local/lib/python3.7/dist-packages (from yfinance) (1.19.5)\n",
            "Requirement already satisfied: lxml>=4.5.1 in /usr/local/lib/python3.7/dist-packages (from yfinance) (4.6.3)\n",
            "Requirement already satisfied: python-dateutil>=2.7.3 in /usr/local/lib/python3.7/dist-packages (from pandas>=0.24->yfinance) (2.8.2)\n",
            "Requirement already satisfied: pytz>=2017.2 in /usr/local/lib/python3.7/dist-packages (from pandas>=0.24->yfinance) (2018.9)\n",
            "Requirement already satisfied: six>=1.5 in /usr/local/lib/python3.7/dist-packages (from python-dateutil>=2.7.3->pandas>=0.24->yfinance) (1.15.0)\n",
            "Requirement already satisfied: urllib3!=1.25.0,!=1.25.1,<1.26,>=1.21.1 in /usr/local/lib/python3.7/dist-packages (from requests>=2.20->yfinance) (1.24.3)\n",
            "Requirement already satisfied: idna<3,>=2.5 in /usr/local/lib/python3.7/dist-packages (from requests>=2.20->yfinance) (2.10)\n",
            "Requirement already satisfied: certifi>=2017.4.17 in /usr/local/lib/python3.7/dist-packages (from requests>=2.20->yfinance) (2021.5.30)\n",
            "Requirement already satisfied: chardet<4,>=3.0.2 in /usr/local/lib/python3.7/dist-packages (from requests>=2.20->yfinance) (3.0.4)\n",
            "Requirement already satisfied: python-dotenv in /usr/local/lib/python3.7/dist-packages (0.19.0)\n",
            "Requirement already satisfied: fmp_python in /usr/local/lib/python3.7/dist-packages (0.1.4)\n",
            "Requirement already satisfied: pandas in /usr/local/lib/python3.7/dist-packages (from fmp_python) (1.1.5)\n",
            "Requirement already satisfied: requests in /usr/local/lib/python3.7/dist-packages (from fmp_python) (2.23.0)\n",
            "Requirement already satisfied: pytz>=2017.2 in /usr/local/lib/python3.7/dist-packages (from pandas->fmp_python) (2018.9)\n",
            "Requirement already satisfied: python-dateutil>=2.7.3 in /usr/local/lib/python3.7/dist-packages (from pandas->fmp_python) (2.8.2)\n",
            "Requirement already satisfied: numpy>=1.15.4 in /usr/local/lib/python3.7/dist-packages (from pandas->fmp_python) (1.19.5)\n",
            "Requirement already satisfied: six>=1.5 in /usr/local/lib/python3.7/dist-packages (from python-dateutil>=2.7.3->pandas->fmp_python) (1.15.0)\n",
            "Requirement already satisfied: urllib3!=1.25.0,!=1.25.1,<1.26,>=1.21.1 in /usr/local/lib/python3.7/dist-packages (from requests->fmp_python) (1.24.3)\n",
            "Requirement already satisfied: idna<3,>=2.5 in /usr/local/lib/python3.7/dist-packages (from requests->fmp_python) (2.10)\n",
            "Requirement already satisfied: certifi>=2017.4.17 in /usr/local/lib/python3.7/dist-packages (from requests->fmp_python) (2021.5.30)\n",
            "Requirement already satisfied: chardet<4,>=3.0.2 in /usr/local/lib/python3.7/dist-packages (from requests->fmp_python) (3.0.4)\n",
            "Requirement already satisfied: category_encoders in /usr/local/lib/python3.7/dist-packages (2.2.2)\n",
            "Requirement already satisfied: statsmodels>=0.9.0 in /usr/local/lib/python3.7/dist-packages (from category_encoders) (0.10.2)\n",
            "Requirement already satisfied: pandas>=0.21.1 in /usr/local/lib/python3.7/dist-packages (from category_encoders) (1.1.5)\n",
            "Requirement already satisfied: patsy>=0.5.1 in /usr/local/lib/python3.7/dist-packages (from category_encoders) (0.5.1)\n",
            "Requirement already satisfied: scipy>=1.0.0 in /usr/local/lib/python3.7/dist-packages (from category_encoders) (1.4.1)\n",
            "Requirement already satisfied: scikit-learn>=0.20.0 in /usr/local/lib/python3.7/dist-packages (from category_encoders) (0.22.2.post1)\n",
            "Requirement already satisfied: numpy>=1.14.0 in /usr/local/lib/python3.7/dist-packages (from category_encoders) (1.19.5)\n",
            "Requirement already satisfied: python-dateutil>=2.7.3 in /usr/local/lib/python3.7/dist-packages (from pandas>=0.21.1->category_encoders) (2.8.2)\n",
            "Requirement already satisfied: pytz>=2017.2 in /usr/local/lib/python3.7/dist-packages (from pandas>=0.21.1->category_encoders) (2018.9)\n",
            "Requirement already satisfied: six in /usr/local/lib/python3.7/dist-packages (from patsy>=0.5.1->category_encoders) (1.15.0)\n",
            "Requirement already satisfied: joblib>=0.11 in /usr/local/lib/python3.7/dist-packages (from scikit-learn>=0.20.0->category_encoders) (1.0.1)\n"
          ]
        }
      ]
    },
    {
      "cell_type": "code",
      "metadata": {
        "id": "4BhaF91yc4jC"
      },
      "source": [
        "import os\n",
        "from dotenv import load_dotenv\n",
        "import typing\n",
        "from fmp_python.fmp import FMP\n",
        "import pandas as pd\n",
        "import numpy as np\n",
        "from urllib.request import urlopen\n",
        "import json\n",
        "import csv\n",
        "import bs4 as bs\n",
        "import requests\n",
        "import category_encoders as ce\n",
        "from datetime import datetime, timedelta\n",
        "from pandas.tseries.holiday import USFederalHolidayCalendar\n",
        "from datetime import datetime\n",
        "from sklearn.model_selection import train_test_split\n",
        "from sklearn.ensemble import RandomForestClassifier\n",
        "from sklearn.compose import ColumnTransformer\n",
        "from sklearn.pipeline import Pipeline\n",
        "from sklearn.impute import SimpleImputer\n",
        "from sklearn.preprocessing import OneHotEncoder"
      ],
      "execution_count": 37,
      "outputs": []
    },
    {
      "cell_type": "code",
      "metadata": {
        "id": "LMSmw--Oc8I3"
      },
      "source": [
        "def fmpAPIKey(fileLocation):\n",
        "  os.chdir(fileLocation)\n",
        "  load_dotenv()\n",
        "  apikey = os.environ.get(\"apikey\")\n",
        "  return apikey"
      ],
      "execution_count": 38,
      "outputs": []
    },
    {
      "cell_type": "code",
      "metadata": {
        "id": "iWD-C9Yfc-jz"
      },
      "source": [
        "def getSPYlist():\n",
        "  resp = requests.get('http://en.wikipedia.org/wiki/List_of_S%26P_500_companies')\n",
        "  soup = bs.BeautifulSoup(resp.text, 'lxml')\n",
        "  table = soup.find('table', {'class': 'wikitable sortable'})\n",
        "  tickers = []\n",
        "  for row in table.findAll('tr')[1:]:\n",
        "      ticker = row.findAll('td')[0].text\n",
        "      ticker = ticker.replace(\"\\n\", \"\")\n",
        "      ticker = ticker.replace(\".\", \"-\")\n",
        "      tickers.append(ticker)\n",
        "  return tickers"
      ],
      "execution_count": 39,
      "outputs": []
    },
    {
      "cell_type": "code",
      "metadata": {
        "id": "466d4YiHdBJY"
      },
      "source": [
        "#!/usr/bin/env python\n",
        "def get_jsonparsed_data(url):\n",
        "    \"\"\"\n",
        "    Receive the content of ``url``, parse it as JSON and return the object.\n",
        "\n",
        "    Parameters\n",
        "    ----------\n",
        "    url : str\n",
        "\n",
        "    Returns\n",
        "    -------\n",
        "    dict\n",
        "    \"\"\"\n",
        "    response = urlopen(url)\n",
        "    data = response.read().decode(\"utf-8\")\n",
        "    return json.loads(data)"
      ],
      "execution_count": 40,
      "outputs": []
    },
    {
      "cell_type": "code",
      "metadata": {
        "id": "8sa2SZy0dCgu"
      },
      "source": [
        "def getJsonData(dataType, ticker, apikey, period=None, startDate=None, endDate=None, limit=None):\n",
        "  if dataType == 'ratio':\n",
        "    url = (\"https://fmpcloud.io/api/v3/ratios/\"+ticker+\"?period=quarter&limit=\"+limit+\"&apikey=\"+apikey)\n",
        "  elif dataType == 'profile':\n",
        "    url = (\"https://fmpcloud.io/api/v3/profile/\"+ticker+\"?apikey=\"+apikey)\n",
        "  elif dataType == 'financial-growth':\n",
        "    url = (\"https://fmpcloud.io/api/v3/financial-growth/\"+ticker+\"?period=quarter&limit=\"+limit+\"&apikey=\"+apikey)\n",
        "  elif dataType == 'historical-price':\n",
        "    url = (\"https://fmpcloud.io/api/v3/historical-price-full/\" + ticker + \"?from=\" + startDate + \"&to=\" + endDate + \"&apikey=\"+apikey)\n",
        "  jsonData = get_jsonparsed_data(url)\n",
        "  # df = pd.DataFrame.from_dict(jsonData, orient='columns')\n",
        "  return jsonData"
      ],
      "execution_count": 67,
      "outputs": []
    },
    {
      "cell_type": "code",
      "metadata": {
        "id": "DWpUN_8UdKCo"
      },
      "source": [
        "def getPandasData(dataType, tickers, apikey, period=None, startDate=None, endDate=None, limit=None):\n",
        "  pandasData = pd.DataFrame()\n",
        "  failTickers = []\n",
        "  for ticker in tickers:\n",
        "    try:\n",
        "      jsonData = getJsonData(dataType, ticker, apikey, period, startDate, endDate, limit)\n",
        "      #price data is nested json. it can't extract directly from Json\n",
        "      if dataType == 'historical-price':\n",
        "        df = pd.DataFrame.from_dict(jsonData['historical'], orient='columns')\n",
        "        df['symbol'] = jsonData['symbol']\n",
        "      else:\n",
        "        df = pd.DataFrame.from_dict(jsonData, orient='columns')\n",
        "      pandasData = pd.concat([pandasData, df], axis=0)\n",
        "    except:\n",
        "      failTickers.append(ticker)\n",
        "      pass\n",
        "  return pandasData"
      ],
      "execution_count": 68,
      "outputs": []
    },
    {
      "cell_type": "code",
      "metadata": {
        "id": "P07zLOxD2JpM"
      },
      "source": [
        "def getForwarDate(pandasData):\n",
        "  #Generate market closure date array\n",
        "  cal = USFederalHolidayCalendar()\n",
        "  holidays = cal.holidays(start='2000-01-01', end='2021-12-31')\n",
        "  holidays = np.array(holidays, dtype='datetime64[D]')\n",
        "  #Get the first busday 45 after the quater ends\n",
        "  pandasData['forward_date'] = pandasData['date'].apply(lambda x: np.busday_offset(x, 45, roll='forward', holidays=holidays))\n",
        "  pandasData['forward_date'] = pandasData['forward_date'].astype('str')"
      ],
      "execution_count": 69,
      "outputs": []
    },
    {
      "cell_type": "code",
      "metadata": {
        "id": "k77l2DarLXHw"
      },
      "source": [
        "def getOutPerform(mergedPandas):\n",
        "  mergedPandas = mergedPandas.sort_values(by=['symbol','date']).reset_index(drop=True)\n",
        "  shifted = mergedPandas.shift(periods=-1, axis=\"rows\", fill_value=0)\n",
        "  mergedPandas['eq'] = mergedPandas['symbol'].eq(shifted['symbol'])\n",
        "  subtract = mergedPandas[['spyP','tickerP']].subtract(shifted[['spyP','tickerP']])\n",
        "  mergedPandas[['spyC','tickerC']] = subtract[['spyP','tickerP']] / shifted[['spyP','tickerP']]\n",
        "  mergedPandas = mergedPandas[mergedPandas['eq'] == True]\n",
        "  mergedPandas['diff'] = mergedPandas['tickerC'].subtract(mergedPandas['spyC']) \n",
        "  mergedPandas['outPerform'] = mergedPandas['diff'] >= 0.1\n",
        "  return mergedPandas"
      ],
      "execution_count": 70,
      "outputs": []
    },
    {
      "cell_type": "code",
      "metadata": {
        "id": "TXZxfxc4gkBD"
      },
      "source": [
        "apikey = fmpAPIKey(\"/content/drive/MyDrive/Colab Notebooks\")"
      ],
      "execution_count": null,
      "outputs": []
    },
    {
      "cell_type": "code",
      "metadata": {
        "id": "Pfc_wfyHhYXs"
      },
      "source": [
        "spyList = getSPYlist()\n",
        "# spyList = spyList[:2]\n",
        "ratio = getPandasData('ratio', spyList, apikey, limit=\"83\")\n",
        "profile = getPandasData('profile', spyList, apikey)\n",
        "finincialGrowth = getPandasData('financial-growth', spyList, apikey, limit=\"83\")\n",
        "individualPrice = getPandasData('historical-price', spyList, apikey, startDate = \"2000-01-01\", endDate= \"2021-09-25\")\n",
        "spyPrice = getPandasData('historical-price', \"SPY\", apikey, startDate = \"2000-01-01\", endDate= \"2021-09-25\")\n"
      ],
      "execution_count": 71,
      "outputs": []
    },
    {
      "cell_type": "code",
      "metadata": {
        "id": "gllhcRksCszd"
      },
      "source": [
        "getForwarDate(ratio)"
      ],
      "execution_count": 72,
      "outputs": []
    },
    {
      "cell_type": "code",
      "metadata": {
        "id": "zjha5-sm_N-M"
      },
      "source": [
        "#drop unnecessary columns and change names\n",
        "ratio = ratio.drop(columns='period')\n",
        "# finincialGrowth = finincialGrowth.drop(columns='period')\n",
        "profile = profile[['symbol','industry','sector']]\n",
        "individualPrice = individualPrice[['date','adjClose','symbol']]\n",
        "individualPrice = individualPrice.rename(columns={\"date\":\"forward_date\", 'adjClose':'tickerP'})\n",
        "spyPrice = spyPrice[['date','adjClose']]\n",
        "spyPrice = spyPrice.rename(columns={\"date\":\"forward_date\", \"adjClose\": \"spyP\"})\n"
      ],
      "execution_count": 73,
      "outputs": []
    },
    {
      "cell_type": "code",
      "metadata": {
        "id": "ocpBloXb39yn"
      },
      "source": [
        "#merge all data\n",
        "spyKeyData = ratio.merge(profile, how='left', on='symbol')\n",
        "spyKeyData = spyKeyData.merge(finincialGrowth, how='left', on=['symbol','date'])\n",
        "spyKeyData = spyKeyData.merge(individualPrice, on=['symbol','forward_date'])\n",
        "spyKeyData = spyKeyData.merge(spyPrice, on='forward_date')"
      ],
      "execution_count": 74,
      "outputs": []
    },
    {
      "cell_type": "code",
      "metadata": {
        "id": "XBxtu06733L5"
      },
      "source": [
        "#Drop if more than 10% of data is missing\n",
        "tooManyMissing = pd.DataFrame(spyKeyData.isnull().sum() > spyKeyData.shape[0] /1000)\n",
        "tooManyMissing = tooManyMissing[tooManyMissing[0] == True].index.tolist()\n",
        "\n",
        "#Keep current/quick/cash Ratio\n",
        "del tooManyMissing[:3]\n",
        "\n",
        "spyKeyData = spyKeyData.drop(tooManyMissing, axis=1)\n",
        "# spyKeyData = spyKeyData.dropna()\n",
        "\n",
        "#Exclude 2021 2Q data\n",
        "spyKeyData2Q = spyKeyData[spyKeyData.date == '2021-06-30'] \n",
        "spyKeyData = spyKeyData[spyKeyData.date != '2021-06-30']"
      ],
      "execution_count": 50,
      "outputs": []
    },
    {
      "cell_type": "code",
      "metadata": {
        "id": "yhdg1YYEL8Rv"
      },
      "source": [
        "spyKeyData = getOutPerform(spyKeyData)"
      ],
      "execution_count": 51,
      "outputs": []
    },
    {
      "cell_type": "code",
      "metadata": {
        "id": "tpwCJDswRY77"
      },
      "source": [
        "y = spyKeyData['outPerform']\n",
        "X = spyKeyData.drop(columns=['outPerform','symbol','date','forward_date','tickerP','spyP','tickerC','spyC','eq','diff'])\n",
        "# X = spyKeyData"
      ],
      "execution_count": 52,
      "outputs": []
    },
    {
      "cell_type": "code",
      "metadata": {
        "id": "gk6FX3PjI6Ur"
      },
      "source": [
        "categorical_cols = ['industry','sector']\n",
        "numerical_cols = list(set(X.columns.to_list()) - set(categorical_cols))"
      ],
      "execution_count": 53,
      "outputs": []
    },
    {
      "cell_type": "code",
      "metadata": {
        "id": "XvO7WlXOHUa3"
      },
      "source": [
        "# Preprocessing for numerical data\n",
        "numerical_transformer = SimpleImputer(strategy='constant')\n",
        "\n",
        "# Preprocessing for categorical data\n",
        "categorical_transformer = Pipeline(steps=[\n",
        "    ('imputer', SimpleImputer(strategy='most_frequent')),\n",
        "    ('onehot', OneHotEncoder(handle_unknown='ignore'))\n",
        "])\n",
        "\n",
        "# Bundle preprocessing for numerical and categorical data\n",
        "preprocessor = ColumnTransformer(\n",
        "    transformers=[\n",
        "        ('num', numerical_transformer, numerical_cols),\n",
        "        ('cat', categorical_transformer, categorical_cols)\n",
        "    ])"
      ],
      "execution_count": 54,
      "outputs": []
    },
    {
      "cell_type": "code",
      "metadata": {
        "id": "9ZS2bsnGSM6n"
      },
      "source": [
        "rf_stock_model = RandomForestClassifier(n_estimators=100, max_depth=10, min_samples_leaf=5)"
      ],
      "execution_count": 55,
      "outputs": []
    },
    {
      "cell_type": "code",
      "metadata": {
        "id": "a54CTvN_SP_C"
      },
      "source": [
        "my_pipeline = Pipeline(steps=[('preprocessor', preprocessor),\n",
        "                              ('model', rf_stock_model)\n",
        "                             ])"
      ],
      "execution_count": 56,
      "outputs": []
    },
    {
      "cell_type": "code",
      "metadata": {
        "colab": {
          "base_uri": "https://localhost:8080/"
        },
        "id": "jqPj3zEKSXB1",
        "outputId": "bceda816-0a0c-4b69-b161-14349de967ef"
      },
      "source": [
        "# spilt data\n",
        "X_train, X_valid, y_train, y_valid = train_test_split(X, y)\n",
        "\n",
        "# Preprocessing of training data, fit model \n",
        "my_pipeline.fit(X_train, y_train)\n",
        "\n",
        "# model score\n",
        "my_pipeline.score(X_valid, y_valid)"
      ],
      "execution_count": 57,
      "outputs": [
        {
          "output_type": "execute_result",
          "data": {
            "text/plain": [
              "0.810423951048951"
            ]
          },
          "metadata": {},
          "execution_count": 57
        }
      ]
    }
  ]
}